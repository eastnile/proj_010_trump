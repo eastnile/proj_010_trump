{
 "cells": [
  {
   "cell_type": "code",
   "execution_count": 7,
   "metadata": {},
   "outputs": [
    {
     "data": {
      "text/html": [
       "'C:/Users/zhaochenhe/Google Drive/research/proj_010_trump'"
      ],
      "text/latex": [
       "'C:/Users/zhaochenhe/Google Drive/research/proj\\_010\\_trump'"
      ],
      "text/markdown": [
       "'C:/Users/zhaochenhe/Google Drive/research/proj_010_trump'"
      ],
      "text/plain": [
       "[1] \"C:/Users/zhaochenhe/Google Drive/research/proj_010_trump\""
      ]
     },
     "metadata": {},
     "output_type": "display_data"
    },
    {
     "name": "stdout",
     "output_type": "stream",
     "text": [
      "[1] \"loading commonly used functions...\"\n",
      "[1] \"done!\"\n"
     ]
    },
    {
     "name": "stderr",
     "output_type": "stream",
     "text": [
      "Loading required package: data.table\n",
      "Loading required package: plyr\n",
      "Loading required package: dplyr\n",
      "\n",
      "Attaching package: 'dplyr'\n",
      "\n",
      "The following objects are masked from 'package:plyr':\n",
      "\n",
      "    arrange, count, desc, failwith, id, mutate, rename, summarise,\n",
      "    summarize\n",
      "\n",
      "The following objects are masked from 'package:data.table':\n",
      "\n",
      "    between, first, last\n",
      "\n",
      "The following objects are masked from 'package:stats':\n",
      "\n",
      "    filter, lag\n",
      "\n",
      "The following objects are masked from 'package:base':\n",
      "\n",
      "    intersect, setdiff, setequal, union\n",
      "\n",
      "Loading required package: choroplethr\n",
      "Warning message:\n",
      "\"package 'choroplethr' was built under R version 3.6.1\"Loading required package: acs\n",
      "Warning message:\n",
      "\"package 'acs' was built under R version 3.6.1\"Loading required package: stringr\n",
      "Loading required package: XML\n",
      "\n",
      "Attaching package: 'acs'\n",
      "\n",
      "The following object is masked from 'package:dplyr':\n",
      "\n",
      "    combine\n",
      "\n",
      "The following object is masked from 'package:base':\n",
      "\n",
      "    apply\n",
      "\n",
      "Registered S3 methods overwritten by 'ggplot2':\n",
      "  method         from \n",
      "  [.quosures     rlang\n",
      "  c.quosures     rlang\n",
      "  print.quosures rlang\n",
      "Loading required package: choroplethrMaps\n",
      "Warning message:\n",
      "\"package 'choroplethrMaps' was built under R version 3.6.1\"Loading required package: lubridate\n",
      "\n",
      "Attaching package: 'lubridate'\n",
      "\n",
      "The following object is masked from 'package:plyr':\n",
      "\n",
      "    here\n",
      "\n",
      "The following objects are masked from 'package:data.table':\n",
      "\n",
      "    hour, isoweek, mday, minute, month, quarter, second, wday, week,\n",
      "    yday, year\n",
      "\n",
      "The following object is masked from 'package:base':\n",
      "\n",
      "    date\n",
      "\n",
      "Loading required package: stargazer\n",
      "\n",
      "Please cite as: \n",
      "\n",
      " Hlavac, Marek (2018). stargazer: Well-Formatted Regression and Summary Statistics Tables.\n",
      " R package version 5.2.2. https://CRAN.R-project.org/package=stargazer \n",
      "\n",
      "Loading required package: ggplot2\n",
      "Loading required package: googlesheets\n",
      "Warning message:\n",
      "\"package 'googlesheets' was built under R version 3.6.1\"Loading required package: knitr\n",
      "Loading required package: fastDummies\n",
      "Warning message:\n",
      "\"package 'fastDummies' was built under R version 3.6.1\"Loading required package: margins\n",
      "Warning message:\n",
      "\"package 'margins' was built under R version 3.6.1\"Registered S3 method overwritten by 'openssl':\n",
      "  method      from\n",
      "  print.bytes Rcpp\n"
     ]
    },
    {
     "ename": "ERROR",
     "evalue": "Error in .subset2(public_bind_env, \"initialize\")(...): Failed to create server\n",
     "output_type": "error",
     "traceback": [
      "Error in .subset2(public_bind_env, \"initialize\")(...): Failed to create server\nTraceback:\n",
      "1. setproj(10)",
      "2. source(path)",
      "3. withVisible(eval(ei, envir))",
      "4. eval(ei, envir)",
      "5. eval(ei, envir)",
      "6. gs_ls()",
      "7. rGET(the_url, google_token()) %>% httr::stop_for_status()",
      "8. eval(lhs, parent, parent)",
      "9. eval(lhs, parent, parent)",
      "10. rGET(the_url, google_token())",
      "11. VERB(...)",
      "12. request_build(\"GET\", hu$url, as.request(config), ...)",
      "13. as.request(config)",
      "14. google_token()",
      "15. gs_auth(verbose = verbose)",
      "16. httr::oauth2.0_token(httr::oauth_endpoints(\"google\"), googlesheets_app, \n  .     scope = scope_list, cache = cache)",
      "17. Token2.0$new(app = app, endpoint = endpoint, params = params, \n  .     credentials = credentials, cache_path = if (is.null(credentials)) cache else FALSE)",
      "18. .subset2(public_bind_env, \"initialize\")(...)",
      "19. self$init_credentials()",
      "20. init_oauth2.0(self$endpoint, self$app, scope = self$params$scope, \n  .     user_params = self$params$user_params, type = self$params$type, \n  .     use_oob = self$params$use_oob, oob_value = self$params$oob_value, \n  .     use_basic_auth = self$params$use_basic_auth, config_init = self$params$config_init, \n  .     client_credentials = self$params$client_credentials, query_authorize_extra = self$params$query_authorize_extra)",
      "21. oauth_authorize(authorize_url, use_oob)",
      "22. oauth_listener(url)",
      "23. httpuv::startServer(use$host, use$port, list(call = listen))",
      "24. WebServer$new(host, port, app)",
      "25. .subset2(public_bind_env, \"initialize\")(...)",
      "26. stop(\"Failed to create server\")"
     ]
    }
   ],
   "source": [
    "getwd()\n",
    "gdrivepath = 'C:/Users/zhaochenhe/Google Drive/'\n",
    "source(paste0(gdrivepath,'init/R/init.R'))\n",
    "setproj(10)"
   ]
  }
 ],
 "metadata": {
  "kernelspec": {
   "display_name": "R",
   "language": "R",
   "name": "ir"
  }
 },
 "nbformat": 4,
 "nbformat_minor": 2
}
