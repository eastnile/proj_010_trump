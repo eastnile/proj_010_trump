{
 "cells": [
  {
   "cell_type": "code",
   "execution_count": 2,
   "metadata": {},
   "outputs": [
    {
     "data": {
      "text/html": [
       "'C:/Users/zhaochenhe/Google Drive/research/proj_010_trump/results'"
      ],
      "text/latex": [
       "'C:/Users/zhaochenhe/Google Drive/research/proj\\_010\\_trump/results'"
      ],
      "text/markdown": [
       "'C:/Users/zhaochenhe/Google Drive/research/proj_010_trump/results'"
      ],
      "text/plain": [
       "[1] \"C:/Users/zhaochenhe/Google Drive/research/proj_010_trump/results\""
      ]
     },
     "metadata": {},
     "output_type": "display_data"
    }
   ],
   "source": [
    "getwd()"
   ]
  }
 ],
 "metadata": {
  "kernelspec": {
   "display_name": "R",
   "language": "R",
   "name": "ir"
  },
  "language_info": {
   "codemirror_mode": "r",
   "file_extension": ".r",
   "mimetype": "text/x-r-source",
   "name": "R",
   "pygments_lexer": "r",
   "version": "3.6.0"
  }
 },
 "nbformat": 4,
 "nbformat_minor": 2
}
